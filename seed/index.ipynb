{
 "cells": [
  {
   "cell_type": "code",
   "execution_count": null,
   "id": "088d1cfe-e9b7-40ff-b7c8-cae22c6254ae",
   "metadata": {},
   "outputs": [],
   "source": []
  },
  {
   "cell_type": "code",
   "execution_count": 41,
   "id": "494bad5e-a411-4c4d-a455-a9fc68b20a1f",
   "metadata": {},
   "outputs": [],
   "source": [
    "with open('readme.txt') as f:\n",
    "    titles = f.read()"
   ]
  },
  {
   "cell_type": "code",
   "execution_count": 42,
   "id": "819dff63-90cb-4491-8e90-40894c13e246",
   "metadata": {},
   "outputs": [],
   "source": [
    "title_list = titles.lower().replace('\\n', '').split(', ')"
   ]
  },
  {
   "cell_type": "code",
   "execution_count": 43,
   "id": "92b27fc7-0995-4955-9f10-0874776cd195",
   "metadata": {},
   "outputs": [],
   "source": [
    "import pandas as pd\n",
    "skills_df = pd.read_csv('./skills.csv', index_col = 0)"
   ]
  },
  {
   "cell_type": "code",
   "execution_count": 44,
   "id": "8eccef3a-03dd-4f3c-852e-7c3a13779fc2",
   "metadata": {},
   "outputs": [
    {
     "data": {
      "text/plain": [
       "(2093, 0)"
      ]
     },
     "execution_count": 44,
     "metadata": {},
     "output_type": "execute_result"
    }
   ],
   "source": [
    "skills_df.shape"
   ]
  },
  {
   "cell_type": "code",
   "execution_count": 45,
   "id": "3464926b-5055-4eb1-95c1-44a7ceff7f6b",
   "metadata": {},
   "outputs": [],
   "source": [
    "added_df = pd.DataFrame(title_list, columns = ['skills'])"
   ]
  },
  {
   "cell_type": "code",
   "execution_count": 46,
   "id": "d7a695f0-bfb6-4ef6-97ac-113acd0b6342",
   "metadata": {},
   "outputs": [
    {
     "data": {
      "text/html": [
       "<div>\n",
       "<style scoped>\n",
       "    .dataframe tbody tr th:only-of-type {\n",
       "        vertical-align: middle;\n",
       "    }\n",
       "\n",
       "    .dataframe tbody tr th {\n",
       "        vertical-align: top;\n",
       "    }\n",
       "\n",
       "    .dataframe thead th {\n",
       "        text-align: right;\n",
       "    }\n",
       "</style>\n",
       "<table border=\"1\" class=\"dataframe\">\n",
       "  <thead>\n",
       "    <tr style=\"text-align: right;\">\n",
       "      <th></th>\n",
       "      <th>skills</th>\n",
       "    </tr>\n",
       "  </thead>\n",
       "  <tbody>\n",
       "    <tr>\n",
       "      <th>0</th>\n",
       "      <td>fivetran</td>\n",
       "    </tr>\n",
       "    <tr>\n",
       "      <th>1</th>\n",
       "      <td>meltano</td>\n",
       "    </tr>\n",
       "  </tbody>\n",
       "</table>\n",
       "</div>"
      ],
      "text/plain": [
       "     skills\n",
       "0  fivetran\n",
       "1   meltano"
      ]
     },
     "execution_count": 46,
     "metadata": {},
     "output_type": "execute_result"
    }
   ],
   "source": [
    "added_df[:2]"
   ]
  },
  {
   "cell_type": "code",
   "execution_count": 47,
   "id": "c44836cf-bf8f-42b2-a59d-13f0b987852f",
   "metadata": {},
   "outputs": [
    {
     "data": {
      "text/html": [
       "<div>\n",
       "<style scoped>\n",
       "    .dataframe tbody tr th:only-of-type {\n",
       "        vertical-align: middle;\n",
       "    }\n",
       "\n",
       "    .dataframe tbody tr th {\n",
       "        vertical-align: top;\n",
       "    }\n",
       "\n",
       "    .dataframe thead th {\n",
       "        text-align: right;\n",
       "    }\n",
       "</style>\n",
       "<table border=\"1\" class=\"dataframe\">\n",
       "  <thead>\n",
       "    <tr style=\"text-align: right;\">\n",
       "      <th></th>\n",
       "      <th>skills</th>\n",
       "    </tr>\n",
       "  </thead>\n",
       "  <tbody>\n",
       "    <tr>\n",
       "      <th>material</th>\n",
       "      <td>NaN</td>\n",
       "    </tr>\n",
       "    <tr>\n",
       "      <th>pusher</th>\n",
       "      <td>NaN</td>\n",
       "    </tr>\n",
       "    <tr>\n",
       "      <th>common object request broker architecture</th>\n",
       "      <td>NaN</td>\n",
       "    </tr>\n",
       "    <tr>\n",
       "      <th>data classification</th>\n",
       "      <td>NaN</td>\n",
       "    </tr>\n",
       "    <tr>\n",
       "      <th>api</th>\n",
       "      <td>NaN</td>\n",
       "    </tr>\n",
       "    <tr>\n",
       "      <th>...</th>\n",
       "      <td>...</td>\n",
       "    </tr>\n",
       "    <tr>\n",
       "      <th>94</th>\n",
       "      <td>twitter</td>\n",
       "    </tr>\n",
       "    <tr>\n",
       "      <th>95</th>\n",
       "      <td>instagram</td>\n",
       "    </tr>\n",
       "    <tr>\n",
       "      <th>96</th>\n",
       "      <td>shopify</td>\n",
       "    </tr>\n",
       "    <tr>\n",
       "      <th>97</th>\n",
       "      <td>heroku</td>\n",
       "    </tr>\n",
       "    <tr>\n",
       "      <th>98</th>\n",
       "      <td>postgres</td>\n",
       "    </tr>\n",
       "  </tbody>\n",
       "</table>\n",
       "<p>2192 rows × 1 columns</p>\n",
       "</div>"
      ],
      "text/plain": [
       "                                              skills\n",
       "material                                         NaN\n",
       "pusher                                           NaN\n",
       "common object request broker architecture        NaN\n",
       "data classification                              NaN\n",
       "api                                              NaN\n",
       "...                                              ...\n",
       "94                                           twitter\n",
       "95                                         instagram\n",
       "96                                           shopify\n",
       "97                                            heroku\n",
       "98                                          postgres\n",
       "\n",
       "[2192 rows x 1 columns]"
      ]
     },
     "execution_count": 47,
     "metadata": {},
     "output_type": "execute_result"
    }
   ],
   "source": [
    "combined = pd.concat([skills_df, added_df])\n",
    "combined"
   ]
  },
  {
   "cell_type": "code",
   "execution_count": 48,
   "id": "a53101c0-316f-4210-9d95-0d1570794fd0",
   "metadata": {},
   "outputs": [],
   "source": [
    "unique_skills = combined['skills'].unique()"
   ]
  },
  {
   "cell_type": "code",
   "execution_count": 49,
   "id": "380f7260-637d-4fb6-baaa-5e7359c1a72f",
   "metadata": {},
   "outputs": [],
   "source": [
    "unique_combined = pd.DataFrame(unique_skills, columns = ['skills'])"
   ]
  },
  {
   "cell_type": "code",
   "execution_count": 51,
   "id": "fffbaa21-327f-4eb7-89ca-794b85902fc8",
   "metadata": {},
   "outputs": [],
   "source": [
    "unique_combined.to_csv('skills.csv')"
   ]
  },
  {
   "cell_type": "code",
   "execution_count": null,
   "id": "fac0f889-2a12-4161-96e2-51983bc82e7d",
   "metadata": {},
   "outputs": [],
   "source": []
  },
  {
   "cell_type": "code",
   "execution_count": null,
   "id": "d6a649c9-8d55-4943-8ea0-93793c0983a5",
   "metadata": {},
   "outputs": [],
   "source": []
  }
 ],
 "metadata": {
  "kernelspec": {
   "display_name": "Python 3 (ipykernel)",
   "language": "python",
   "name": "python3"
  },
  "language_info": {
   "codemirror_mode": {
    "name": "ipython",
    "version": 3
   },
   "file_extension": ".py",
   "mimetype": "text/x-python",
   "name": "python",
   "nbconvert_exporter": "python",
   "pygments_lexer": "ipython3",
   "version": "3.9.10"
  }
 },
 "nbformat": 4,
 "nbformat_minor": 5
}
