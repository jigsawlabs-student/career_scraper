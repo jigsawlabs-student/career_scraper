{
 "cells": [
  {
   "cell_type": "code",
   "execution_count": 2,
   "id": "07f5473b-6f22-4c68-8675-69f0a59e6d41",
   "metadata": {},
   "outputs": [],
   "source": [
    "from urllib.request import urlopen\n",
    "\n",
    "def get_page_from(id):\n",
    "    desc_string = f\"https://www.indeed.com/viewjob?jk={id}\"\n",
    "    response = urlopen(desc_string).read().decode('utf8')\n",
    "    return response"
   ]
  },
  {
   "cell_type": "code",
   "execution_count": null,
   "id": "669963c9-d8fa-4e9d-b2d2-d2b1c1872f20",
   "metadata": {},
   "outputs": [],
   "source": [
    "id = \"62215900bb000573\"\n",
    "get_page_from(id)"
   ]
  }
 ],
 "metadata": {
  "kernelspec": {
   "display_name": "Python 3 (ipykernel)",
   "language": "python",
   "name": "python3"
  },
  "language_info": {
   "codemirror_mode": {
    "name": "ipython",
    "version": 3
   },
   "file_extension": ".py",
   "mimetype": "text/x-python",
   "name": "python",
   "nbconvert_exporter": "python",
   "pygments_lexer": "ipython3",
   "version": "3.9.10"
  }
 },
 "nbformat": 4,
 "nbformat_minor": 5
}
